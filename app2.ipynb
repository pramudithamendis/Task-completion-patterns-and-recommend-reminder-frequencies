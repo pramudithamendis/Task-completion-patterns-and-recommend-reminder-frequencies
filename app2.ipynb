{
 "cells": [
  {
   "cell_type": "code",
   "execution_count": null,
   "metadata": {},
   "outputs": [
    {
     "name": "stdout",
     "output_type": "stream",
     "text": [
      "Mean Absolute Error (MAE): 0.08\n",
      "Mean Squared Error (MSE): 0.01\n",
      "Root Mean Squared Error (RMSE): 0.09\n",
      "Predicted Completion Rates: [0.83333333 0.83333333 0.58333333 0.83333333]\n"
     ]
    }
   ],
   "source": [
    "import pandas as pd\n",
    "from sklearn.model_selection import train_test_split\n",
    "from sklearn.neighbors import KNeighborsRegressor\n",
    "from sklearn.preprocessing import LabelEncoder\n",
    "from sklearn.metrics import mean_absolute_error, mean_squared_error\n",
    "\n",
    "# Step 1: Load the dataset\n",
    "data = {\n",
    "    \"Task\": [\"Take Medication\", \"Take Medication\", \"Take Medication\", \"Pay Bills\", \"Pay Bills\", \"Pay Bills\",\n",
    "             \"Grocery Shopping\", \"Grocery Shopping\", \"Grocery Shopping\", \"Exercise\", \"Exercise\", \"Exercise\"],\n",
    "    \"Frequency\": [7, 7, 7, 1, 1, 1, 3, 3, 3, 4, 4, 4],\n",
    "    \"Priority\": [10, 10, 10, 9, 9, 9, 5, 5, 5, 4, 4, 4],\n",
    "    \"CompletionRate\": [0.7, 0.6, 0.65, 0.3, 0.2, 0.5, 0.9, 0.8, 0.95, 0.85, 0.75, 0.8]\n",
    "}\n",
    "df = pd.DataFrame(data)\n",
    "\n",
    "# Step 2: Encode the 'Task' column\n",
    "label_encoder = LabelEncoder()\n",
    "df['Task_encoded'] = label_encoder.fit_transform(df['Task'])\n",
    "\n",
    "# Define features and target\n",
    "X = df[['Frequency', 'Priority', 'Task_encoded']]\n",
    "y = df['CompletionRate']\n",
    "\n",
    "# Step 3: Split data into training and testing sets\n",
    "X_train, X_test, y_train, y_test = train_test_split(X, y, test_size=0.3, random_state=42)\n",
    "\n",
    "# Step 4: Initialize and train the KNN regression model\n",
    "k = 3  # Choose an appropriate k\n",
    "knn_regressor = KNeighborsRegressor(n_neighbors=k)\n",
    "knn_regressor.fit(X_train, y_train)\n",
    "\n",
    "# Step 5: Predict on the test set and evaluate\n",
    "y_pred = knn_regressor.predict(X_test)\n",
    "mae = mean_absolute_error(y_test, y_pred)\n",
    "mse = mean_squared_error(y_test, y_pred)\n",
    "rmse = mse ** 0.5\n",
    "\n",
    "print(f\"Mean Absolute Error (MAE): {mae:.2f}\")\n",
    "print(f\"Mean Squared Error (MSE): {mse:.2f}\")\n",
    "print(f\"Root Mean Squared Error (RMSE): {rmse:.2f}\")\n",
    "\n",
    "# Optional: Show predictions\n",
    "print(\"Predicted Completion Rates:\", y_pred)\n"
   ]
  },
  {
   "cell_type": "code",
   "execution_count": 10,
   "metadata": {},
   "outputs": [
    {
     "data": {
      "text/html": [
       "<div>\n",
       "<style scoped>\n",
       "    .dataframe tbody tr th:only-of-type {\n",
       "        vertical-align: middle;\n",
       "    }\n",
       "\n",
       "    .dataframe tbody tr th {\n",
       "        vertical-align: top;\n",
       "    }\n",
       "\n",
       "    .dataframe thead th {\n",
       "        text-align: right;\n",
       "    }\n",
       "</style>\n",
       "<table border=\"1\" class=\"dataframe\">\n",
       "  <thead>\n",
       "    <tr style=\"text-align: right;\">\n",
       "      <th></th>\n",
       "      <th>Frequency</th>\n",
       "      <th>Priority</th>\n",
       "      <th>Task_encoded</th>\n",
       "    </tr>\n",
       "  </thead>\n",
       "  <tbody>\n",
       "    <tr>\n",
       "      <th>10</th>\n",
       "      <td>4</td>\n",
       "      <td>4</td>\n",
       "      <td>0</td>\n",
       "    </tr>\n",
       "    <tr>\n",
       "      <th>9</th>\n",
       "      <td>4</td>\n",
       "      <td>4</td>\n",
       "      <td>0</td>\n",
       "    </tr>\n",
       "    <tr>\n",
       "      <th>0</th>\n",
       "      <td>7</td>\n",
       "      <td>10</td>\n",
       "      <td>3</td>\n",
       "    </tr>\n",
       "    <tr>\n",
       "      <th>8</th>\n",
       "      <td>3</td>\n",
       "      <td>5</td>\n",
       "      <td>1</td>\n",
       "    </tr>\n",
       "  </tbody>\n",
       "</table>\n",
       "</div>"
      ],
      "text/plain": [
       "    Frequency  Priority  Task_encoded\n",
       "10          4         4             0\n",
       "9           4         4             0\n",
       "0           7        10             3\n",
       "8           3         5             1"
      ]
     },
     "execution_count": 10,
     "metadata": {},
     "output_type": "execute_result"
    }
   ],
   "source": [
    "X_test"
   ]
  },
  {
   "cell_type": "code",
   "execution_count": 9,
   "metadata": {},
   "outputs": [
    {
     "name": "stdout",
     "output_type": "stream",
     "text": [
      "(array([4, 4, 0], dtype=int64), 0.75, 0.8333333333333334)\n",
      "(array([4, 4, 0], dtype=int64), 0.85, 0.8333333333333334)\n",
      "(array([ 7, 10,  3], dtype=int64), 0.7, 0.5833333333333334)\n",
      "(array([3, 5, 1], dtype=int64), 0.95, 0.8333333333333334)\n"
     ]
    }
   ],
   "source": [
    "for i in zip(X_test.values, y_test, y_pred):\n",
    "    print(i)"
   ]
  }
 ],
 "metadata": {
  "kernelspec": {
   "display_name": "Python 3",
   "language": "python",
   "name": "python3"
  },
  "language_info": {
   "codemirror_mode": {
    "name": "ipython",
    "version": 3
   },
   "file_extension": ".py",
   "mimetype": "text/x-python",
   "name": "python",
   "nbconvert_exporter": "python",
   "pygments_lexer": "ipython3",
   "version": "3.12.6"
  }
 },
 "nbformat": 4,
 "nbformat_minor": 2
}
