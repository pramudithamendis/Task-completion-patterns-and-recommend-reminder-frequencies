{
 "cells": [
  {
   "cell_type": "code",
   "execution_count": 47,
   "metadata": {},
   "outputs": [],
   "source": [
    "# Simulating task data for \"Take Medication\" and \"Pay Bills\" over several days\n",
    "# data = {\n",
    "#     'Task': ['Take Medication'] * 14 + ['Pay Bills'] * 14,\n",
    "#     'Frequency': [7] * 14 + [1] * 14,  # 7 times per week for Medication, 1 time per week for Bills\n",
    "#     'Priority': [10] * 14 + [8] * 14,  # Higher priority for Medication\n",
    "#     'CompletionRate': [0.6, 0.8, 0.4, 0.5, 0.7, 0.6, 0.4, 0.9, 0.5, 0.3, 0.6, 0.5, 0.8, 0.6, # Medication data\n",
    "#                        0.9, 0.8, 0.7, 0.6, 0.8, 0.9, 0.7, 0.6, 0.5, 0.9, 0.8, 0.8, 0.9, 0.7]  # Bills data\n",
    "# }\n",
    "\n",
    "# df = pd.DataFrame(data)\n",
    "# df\n",
    "# df.to_csv('Tasks.csv')"
   ]
  },
  {
   "cell_type": "code",
   "execution_count": 48,
   "metadata": {},
   "outputs": [
    {
     "data": {
      "text/plain": [
       "'I used this prompt used to generate datasets in ChatGPT\\ngive me a dataset that has the features such as Task, Frequency(7 times per week for Medication, 1 time per week for Bills), Priority level(values between 1 and 10, and completion rate. Include only 4 unique tasks. And the dataset is collect after few weeks of recording about these tasks. Give for a person that forgets stuff for high priority ones\\n'"
      ]
     },
     "execution_count": 48,
     "metadata": {},
     "output_type": "execute_result"
    }
   ],
   "source": [
    "import pandas as pd\n",
    "from sklearn.cluster import DBSCAN\n",
    "from sklearn.preprocessing import StandardScaler\n",
    "import numpy as np\n",
    "import matplotlib.pyplot as plt\n",
    "\n",
    "a='Tasks.csv'\n",
    "b='RandomPerson.csv'\n",
    "c='Person_Who_Forgets_High_Priority_ones.csv'\n",
    "d='Person_Who_Does_Not_Forgets_High_Priority_ones.csv'\n",
    "e=\"Person_Who_Doesn't_Forget_Weekly_Tasks_but_Forgets_Daily_Tasks.csv\"\n",
    "\n",
    "csv_to_read = c\n",
    "\n",
    "df = pd.read_csv(csv_to_read)\n",
    "\n",
    "\n",
    "\"\"\"I used this prompt used to generate datasets in ChatGPT\n",
    "give me a dataset that has the features such as Task, Frequency(7 times per week for Medication, 1 time per week for Bills), Priority level(values between 1 and 10, and completion rate. Include only 4 unique tasks. And the dataset is collect after few weeks of recording about these tasks. Give for a person that forgets stuff for high priority ones\n",
    "\"\"\""
   ]
  },
  {
   "cell_type": "code",
   "execution_count": 49,
   "metadata": {},
   "outputs": [
    {
     "name": "stdout",
     "output_type": "stream",
     "text": [
      "\n",
      "Cluster -1:\n",
      "        Task  Frequency  Priority  CompletionRate\n",
      "3  Pay Bills          1         9             0.3\n",
      "4  Pay Bills          1         9             0.2\n",
      "5  Pay Bills          1         9             0.5\n",
      "\n",
      "Cluster 0:\n",
      "              Task  Frequency  Priority  CompletionRate\n",
      "0  Take Medication          7        10            0.70\n",
      "1  Take Medication          7        10            0.60\n",
      "2  Take Medication          7        10            0.65\n",
      "\n",
      "Cluster 1:\n",
      "               Task  Frequency  Priority  CompletionRate\n",
      "6  Grocery Shopping          3         5            0.90\n",
      "7  Grocery Shopping          3         5            0.80\n",
      "8  Grocery Shopping          3         5            0.95\n",
      "\n",
      "Cluster 2:\n",
      "        Task  Frequency  Priority  CompletionRate\n",
      "9   Exercise          4         4            0.85\n",
      "10  Exercise          4         4            0.75\n",
      "11  Exercise          4         4            0.80\n"
     ]
    },
    {
     "data": {
      "image/png": "[encoded data removed]",
      "text/plain": [
       "<Figure size 640x480 with 1 Axes>"
      ]
     },
     "metadata": {},
     "output_type": "display_data"
    },
    {
     "name": "stdout",
     "output_type": "stream",
     "text": [
      "\n",
      "Cluster -1 - Tasks in this group are set for a high-priority daily reminder.\n",
      "  - Pay Bills: high-priority daily reminder\n",
      "\n",
      "Cluster 0 - Tasks in this group are set for a high-priority daily reminder.\n",
      "  - Take Medication: high-priority daily reminder\n",
      "\n",
      "Cluster 1 - Tasks in this group are set for a weekly reminder.\n",
      "  - Grocery Shopping: weekly reminder\n",
      "\n",
      "Cluster 2 - Tasks in this group are set for a weekly reminder.\n",
      "  - Exercise: weekly reminder\n"
     ]
    }
   ],
   "source": [
    "# Select features for clustering: Frequency, Priority, and CompletionRate\n",
    "X = df[['Frequency', 'Priority', 'CompletionRate']].values\n",
    "stscaler = StandardScaler().fit(X)\n",
    "X_scaled = stscaler.transform(X)\n",
    "\n",
    "# Applying DBSCAN clustering\n",
    "dbsc = DBSCAN(eps=0.5, min_samples=3).fit(X_scaled)\n",
    "labels = dbsc.labels_\n",
    "\n",
    "# Adding cluster labels back to the dataframe\n",
    "df['Cluster'] = labels\n",
    "unique_labels = np.unique(labels)\n",
    "\n",
    "# Print clustered tasks with completion info\n",
    "for label in unique_labels:\n",
    "    cluster_data = df[df['Cluster'] == label]\n",
    "    print(f\"\\nCluster {label}:\")\n",
    "    print(cluster_data[['Task', 'Frequency', 'Priority', 'CompletionRate']])\n",
    "    \n",
    "# Visualize clusters\n",
    "colors = plt.cm.Spectral(np.linspace(0, 1, len(unique_labels)))\n",
    "for (label, color) in zip(unique_labels, colors):\n",
    "    class_member_mask = (labels == label)\n",
    "    plt.plot(X_scaled[class_member_mask, 0], X_scaled[class_member_mask, 1], 'o',\n",
    "             markerfacecolor=color, markersize=10, label=f'Cluster {label}')\n",
    "    plt.legend()\n",
    "plt.xlabel('Frequency (scaled)')\n",
    "plt.ylabel('Priority (scaled)')\n",
    "plt.title('Task Clusters')\n",
    "plt.show()\n",
    "\n",
    "# Reminder logic based on clusters\n",
    "for label in unique_labels:\n",
    "    cluster_data = df[df['Cluster'] == label]\n",
    "    avg_completion = cluster_data['CompletionRate'].mean()\n",
    "    avg_priority = cluster_data['Priority'].mean()\n",
    "\n",
    "    # Determine reminder frequency and type based on average completion rate and priority in cluster\n",
    "    if avg_priority >= 9 and avg_completion < 0.7:\n",
    "        reminder_type = \"high-priority daily reminder\"\n",
    "    elif avg_priority >= 7 and avg_completion < 0.8:\n",
    "        reminder_type = \"frequent reminder every other day\"\n",
    "    else:\n",
    "        reminder_type = \"weekly reminder\"\n",
    "    \n",
    "    print(f\"\\nCluster {label} - Tasks in this group are set for a {reminder_type}.\")\n",
    "    for task in cluster_data['Task'].unique():\n",
    "        print(f\"  - {task}: {reminder_type}\")\n"
   ]
  },
  {
   "cell_type": "code",
   "execution_count": 50,
   "metadata": {},
   "outputs": [
    {
     "name": "stdout",
     "output_type": "stream",
     "text": [
      "{'Take Medication': {}, 'Pay Bills': {}, 'Grocery Shopping': {}, 'Exercise': {}}\n",
      "{'Take Medication': {-1: 0, 0: 0, 1: 0, 2: 0}, 'Pay Bills': {-1: 0, 0: 0, 1: 0, 2: 0}, 'Grocery Shopping': {-1: 0, 0: 0, 1: 0, 2: 0}, 'Exercise': {-1: 0, 0: 0, 1: 0, 2: 0}}\n",
      "{'Take Medication': {-1: 0, 0: 3, 1: 0, 2: 0}, 'Pay Bills': {-1: 3, 0: 0, 1: 0, 2: 0}, 'Grocery Shopping': {-1: 0, 0: 0, 1: 3, 2: 0}, 'Exercise': {-1: 0, 0: 0, 1: 0, 2: 3}}\n"
     ]
    }
   ],
   "source": [
    "dict2 = dict()\n",
    "for i in df['Task'].unique():\n",
    "    # print(i)\n",
    "    dict2[i] = dict()\n",
    "print(dict2)\n",
    "for i in df['Task'].unique():\n",
    "    # print(dict2[i])\n",
    "    for l in unique_labels:\n",
    "        list_for_label = 0\n",
    "        dict2[i][l] = list_for_label\n",
    "print(dict2)\n",
    "for row_in_dataset in df.values:\n",
    "    task_is = row_in_dataset[0]\n",
    "    label_is = row_in_dataset[4]\n",
    "    # print(task_is, \"-\",label_is)\n",
    "    for med_kinda in dict2:\n",
    "        for minus_one_kinda in dict2[med_kinda]: #Accessing the dict of label-count pairs\n",
    "            if label_is == minus_one_kinda and task_is == med_kinda:\n",
    "                dict2[med_kinda][minus_one_kinda] = dict2[med_kinda][minus_one_kinda] + 1\n",
    "print(dict2)"
   ]
  },
  {
   "cell_type": "code",
   "execution_count": 51,
   "metadata": {},
   "outputs": [
    {
     "name": "stdout",
     "output_type": "stream",
     "text": [
      "Take Medication :\t 0\n",
      "Pay Bills :\t -1\n",
      "Grocery Shopping :\t 1\n",
      "Exercise :\t 2\n"
     ]
    }
   ],
   "source": [
    "best_clusters = []\n",
    "for i in dict2:\n",
    "    l = dict2[i]\n",
    "    max = 0\n",
    "    best_cluster = \"\"\n",
    "    for j in l:\n",
    "        if l[j] > max:\n",
    "            max = l[j]\n",
    "            best_cluster = j\n",
    "    best_clusters.append((i,best_cluster))\n",
    "    print(i,\":\\t\", best_cluster)\n",
    "        "
   ]
  },
  {
   "cell_type": "code",
   "execution_count": 52,
   "metadata": {},
   "outputs": [
    {
     "data": {
      "text/plain": [
       "[0, -1, 1, 2]"
      ]
     },
     "execution_count": 52,
     "metadata": {},
     "output_type": "execute_result"
    }
   ],
   "source": [
    "labels_of_best_clusters = []\n",
    "for i in best_clusters:\n",
    "    labels_of_best_clusters.append(i[1])\n",
    "labels_of_best_clusters"
   ]
  },
  {
   "cell_type": "code",
   "execution_count": 53,
   "metadata": {},
   "outputs": [
    {
     "data": {
      "text/plain": [
       "['high-priority daily reminder',\n",
       " 'high-priority daily reminder',\n",
       " 'weekly reminder',\n",
       " 'weekly reminder']"
      ]
     },
     "execution_count": 53,
     "metadata": {},
     "output_type": "execute_result"
    }
   ],
   "source": [
    "reminder_types = []\n",
    "for label in labels_of_best_clusters:\n",
    "    cluster_data = df[df['Cluster'] == label]\n",
    "    avg_completion = cluster_data['CompletionRate'].mean()\n",
    "    avg_priority = cluster_data['Priority'].mean()\n",
    "\n",
    "    # Determine reminder frequency and type based on average completion rate and priority in cluster\n",
    "    if avg_priority >= 9 and avg_completion < 0.7:\n",
    "        reminder_type = \"high-priority daily reminder\"\n",
    "    elif avg_priority >= 7 and avg_completion < 0.8:\n",
    "        reminder_type = \"frequent reminder every other day\"\n",
    "    else:\n",
    "        reminder_type = \"weekly reminder\"\n",
    "    reminder_types.append(reminder_type)\n",
    "reminder_types"
   ]
  },
  {
   "cell_type": "code",
   "execution_count": 54,
   "metadata": {},
   "outputs": [
    {
     "name": "stdout",
     "output_type": "stream",
     "text": [
      "This is about a:  Person_Who_Forgets_High_Priority_ones.csv\n",
      "\n",
      "As per the current behavious pattern, the reminder patterns for each unique task is,\n",
      "Take Medication : high-priority daily reminder\n",
      "Pay Bills : high-priority daily reminder\n",
      "Grocery Shopping : weekly reminder\n",
      "Exercise : weekly reminder\n",
      "\n",
      "The collected dataset is, \n"
     ]
    },
    {
     "data": {
      "text/html": [
       "<div>\n",
       "<style scoped>\n",
       "    .dataframe tbody tr th:only-of-type {\n",
       "        vertical-align: middle;\n",
       "    }\n",
       "\n",
       "    .dataframe tbody tr th {\n",
       "        vertical-align: top;\n",
       "    }\n",
       "\n",
       "    .dataframe thead th {\n",
       "        text-align: right;\n",
       "    }\n",
       "</style>\n",
       "<table border=\"1\" class=\"dataframe\">\n",
       "  <thead>\n",
       "    <tr style=\"text-align: right;\">\n",
       "      <th></th>\n",
       "      <th>Task</th>\n",
       "      <th>Frequency</th>\n",
       "      <th>Priority</th>\n",
       "      <th>CompletionRate</th>\n",
       "      <th>Cluster</th>\n",
       "    </tr>\n",
       "  </thead>\n",
       "  <tbody>\n",
       "    <tr>\n",
       "      <th>0</th>\n",
       "      <td>Take Medication</td>\n",
       "      <td>7</td>\n",
       "      <td>10</td>\n",
       "      <td>0.70</td>\n",
       "      <td>0</td>\n",
       "    </tr>\n",
       "    <tr>\n",
       "      <th>1</th>\n",
       "      <td>Take Medication</td>\n",
       "      <td>7</td>\n",
       "      <td>10</td>\n",
       "      <td>0.60</td>\n",
       "      <td>0</td>\n",
       "    </tr>\n",
       "    <tr>\n",
       "      <th>2</th>\n",
       "      <td>Take Medication</td>\n",
       "      <td>7</td>\n",
       "      <td>10</td>\n",
       "      <td>0.65</td>\n",
       "      <td>0</td>\n",
       "    </tr>\n",
       "    <tr>\n",
       "      <th>3</th>\n",
       "      <td>Pay Bills</td>\n",
       "      <td>1</td>\n",
       "      <td>9</td>\n",
       "      <td>0.30</td>\n",
       "      <td>-1</td>\n",
       "    </tr>\n",
       "    <tr>\n",
       "      <th>4</th>\n",
       "      <td>Pay Bills</td>\n",
       "      <td>1</td>\n",
       "      <td>9</td>\n",
       "      <td>0.20</td>\n",
       "      <td>-1</td>\n",
       "    </tr>\n",
       "    <tr>\n",
       "      <th>5</th>\n",
       "      <td>Pay Bills</td>\n",
       "      <td>1</td>\n",
       "      <td>9</td>\n",
       "      <td>0.50</td>\n",
       "      <td>-1</td>\n",
       "    </tr>\n",
       "    <tr>\n",
       "      <th>6</th>\n",
       "      <td>Grocery Shopping</td>\n",
       "      <td>3</td>\n",
       "      <td>5</td>\n",
       "      <td>0.90</td>\n",
       "      <td>1</td>\n",
       "    </tr>\n",
       "    <tr>\n",
       "      <th>7</th>\n",
       "      <td>Grocery Shopping</td>\n",
       "      <td>3</td>\n",
       "      <td>5</td>\n",
       "      <td>0.80</td>\n",
       "      <td>1</td>\n",
       "    </tr>\n",
       "    <tr>\n",
       "      <th>8</th>\n",
       "      <td>Grocery Shopping</td>\n",
       "      <td>3</td>\n",
       "      <td>5</td>\n",
       "      <td>0.95</td>\n",
       "      <td>1</td>\n",
       "    </tr>\n",
       "    <tr>\n",
       "      <th>9</th>\n",
       "      <td>Exercise</td>\n",
       "      <td>4</td>\n",
       "      <td>4</td>\n",
       "      <td>0.85</td>\n",
       "      <td>2</td>\n",
       "    </tr>\n",
       "    <tr>\n",
       "      <th>10</th>\n",
       "      <td>Exercise</td>\n",
       "      <td>4</td>\n",
       "      <td>4</td>\n",
       "      <td>0.75</td>\n",
       "      <td>2</td>\n",
       "    </tr>\n",
       "    <tr>\n",
       "      <th>11</th>\n",
       "      <td>Exercise</td>\n",
       "      <td>4</td>\n",
       "      <td>4</td>\n",
       "      <td>0.80</td>\n",
       "      <td>2</td>\n",
       "    </tr>\n",
       "  </tbody>\n",
       "</table>\n",
       "</div>"
      ],
      "text/plain": [
       "                Task  Frequency  Priority  CompletionRate  Cluster\n",
       "0    Take Medication          7        10            0.70        0\n",
       "1    Take Medication          7        10            0.60        0\n",
       "2    Take Medication          7        10            0.65        0\n",
       "3          Pay Bills          1         9            0.30       -1\n",
       "4          Pay Bills          1         9            0.20       -1\n",
       "5          Pay Bills          1         9            0.50       -1\n",
       "6   Grocery Shopping          3         5            0.90        1\n",
       "7   Grocery Shopping          3         5            0.80        1\n",
       "8   Grocery Shopping          3         5            0.95        1\n",
       "9           Exercise          4         4            0.85        2\n",
       "10          Exercise          4         4            0.75        2\n",
       "11          Exercise          4         4            0.80        2"
      ]
     },
     "execution_count": 54,
     "metadata": {},
     "output_type": "execute_result"
    }
   ],
   "source": [
    "print(\"This is about a: \", csv_to_read)\n",
    "print()\n",
    "print(\"As per the current behavious pattern, the reminder patterns for each unique task is,\")\n",
    "for i,j in zip(best_clusters, reminder_types):\n",
    "    print(i[0], \":\", j)\n",
    "print()\n",
    "print(\"The collected dataset is, \")\n",
    "df"
   ]
  }
 ],
 "metadata": {
  "kernelspec": {
   "display_name": "Python 3",
   "language": "python",
   "name": "python3"
  },
  "language_info": {
   "codemirror_mode": {
    "name": "ipython",
    "version": 3
   },
   "file_extension": ".py",
   "mimetype": "text/x-python",
   "name": "python",
   "nbconvert_exporter": "python",
   "pygments_lexer": "ipython3",
   "version": "3.12.6"
  }
 },
 "nbformat": 4,
 "nbformat_minor": 2
}
